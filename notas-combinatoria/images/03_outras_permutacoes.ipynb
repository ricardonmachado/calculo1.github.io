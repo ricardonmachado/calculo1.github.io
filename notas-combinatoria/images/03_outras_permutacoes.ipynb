{
 "cells": [
  {
   "cell_type": "markdown",
   "metadata": {},
   "source": [
    "<h1>\n",
    "\n",
    "<dl>  \n",
    "    <dt> <a href=\"http://ufrpe.br/\">Universidade Federal Rural de Pernambuco </a></dt>\n",
    "    <dt> <a href=\"http://www.dm.ufrpe.br/\">Departamento de Matemática</a> </dt>\n",
    "    <dt><a href=\"https://sites.google.com/site/ricardonunesmachadojr/disciplinas/analise-combinatoria\">Disciplina: Análise Combinatória </a> </dt>\n",
    "    <dt> <a href=\"https://sites.google.com/site/ricardonunesmachadojr/\">Prof. Ricardo Machado</a> </dt>\n",
    "</dl>    "
   ]
  },
  {
   "cell_type": "markdown",
   "metadata": {},
   "source": [
    "<h2>\n",
    "<a href=\"https://sagectu.com.br/calculo1.github.io/combinatoria.html\">Índice de Aulas</a>\n",
    "\n",
    "Aula 3"
   ]
  },
  {
   "cell_type": "markdown",
   "metadata": {},
   "source": [
    "<h2>\n",
    "<BLOCKQUOTE>\n",
    "1 - <a class=\"nav-link js-scroll-trigger\" href=\"#001\">Permutação Circular</a> \n",
    "\n",
    "2 - <a class=\"nav-link js-scroll-trigger\" href=\"#002\">Permutação com Repetição</a> \n",
    "\n",
    "3 - <a class=\"nav-link js-scroll-trigger\" href=\"#003\">Exercícios</a> \n",
    "\n",
    "4 - <a class=\"nav-link js-scroll-trigger\" href=\"#004\">Atividade</a> \n",
    "\n",
    "5 - <a class=\"nav-link js-scroll-trigger\" href=\"#005\">Resposta dos Exercícios</a> "
   ]
  },
  {
   "cell_type": "markdown",
   "metadata": {},
   "source": [
    "<h1>\n",
    "    Referências:\n",
    "<h2>\n",
    "\n",
    "[1] Morgado, A. C. O., et al, <i>Análise Combinatória e Probabilidade</i>, SBM. 6ª ed.\n",
    "    \n",
    "[2] Rosen, K. H., <i>Discrete Mathematics and Its Applications</i>, McGraw-Hill.\n",
    "\n",
    "[3] Bezerra, N., <a href=\"https://educapes.capes.gov.br/bitstream/capes/206367/2/Livro_analise_combinatoria.pdf\"><i>Análise Combinatória e Probabilidade</i></a>, editAedi.\n",
    "\n",
    "\n"
   ]
  },
  {
   "cell_type": "markdown",
   "metadata": {},
   "source": [
    "<h3>\n",
    "Observação:\n",
    "<BLOCKQUOTE>\n",
    "Nota de aula produzida usando o software <a href=\"http://www.sagemath.org/\">SageMath</a>, usando o notebook <a href=\"https://jupyter.org/\">Jupyter</a>.\n",
    "    \n",
    "Use o SageMathCell com vários exemplos em: <a href=\"https://sagectu.com.br/sagecell.html\">sagectu.com.br/sagecell.html</a>\n",
    "\n",
    "Referência bibliográfica sobre o SageMath:\n",
    "\n",
    "[1] Silva, L., Santos M., Machado, R., <a href=\"https://sagectu.com.br/\"> <i>Elementos de Computação Matemática com SageMath</i></a>, SBM, 2019.\n",
    "\n",
    "\n",
    "<a href=\"https://sagectu.com.br/\">\n",
    "<img class=\"img-fluid\" src=\"https://sagectu.com.br/img/elementos_de_computacao_matematica_com_sagemath.jpg\" alt=\"\" width=\"200\" height=\"100\"> </a>"
   ]
  },
  {
   "cell_type": "code",
   "execution_count": 11,
   "metadata": {},
   "outputs": [],
   "source": [
    "load ('/home/ricardo/sage-9.0-Debian_GNU_Linux_9-x86_64/SageMath/Sage_Sync/Combinatoria/codigos2.sage')"
   ]
  },
  {
   "cell_type": "markdown",
   "metadata": {},
   "source": [
    "<h2>\n",
    "<section id=\"001\"> </section>\n",
    "1 - Permutação Circular"
   ]
  },
  {
   "cell_type": "markdown",
   "metadata": {},
   "source": [
    "<h3>\n",
    "Definição 1\n",
    "<BLOCKQUOTE>\n",
    "O número de <em>permutações circulares</em> de $n$ elementos, é o número de maneiras de organizar $n$ objetos distintos ao longo de um círculo fixo (isto é, não pode ser retirado do plano e virado). Notação:\n",
    "\n",
    "$$ PC_n ~~\\text{ ou }~~ PC(n). $$\n",
    " \n"
   ]
  },
  {
   "cell_type": "markdown",
   "metadata": {},
   "source": [
    "<h3>\n",
    "Exemplo 1\n",
    "<BLOCKQUOTE>\n",
    "O três circulos seguintes são equivalentes.\n"
   ]
  },
  {
   "cell_type": "code",
   "execution_count": 12,
   "metadata": {},
   "outputs": [
    {
     "data": {
      "image/png": "[encoded data removed]",
      "text/plain": [
       "Graphics Array of size 1 x 3"
      ]
     },
     "metadata": {},
     "output_type": "display_data"
    }
   ],
   "source": [
    "p1 = permuta_circular_x([1, 2, 3])\n",
    "p2 = permuta_circular_x([3, 1, 2])\n",
    "p3 = permuta_circular_x([2, 3, 1])\n",
    "G = graphics_array([[p1, p2, p3]])\n",
    "G.show()"
   ]
  },
  {
   "cell_type": "markdown",
   "metadata": {},
   "source": [
    "<h3>\n",
    "Exemplo 2\n",
    "<BLOCKQUOTE>\n",
    "O número total de permutações circulares com 3 elementos $\\{1, 2, 3\\}$ é 2. \n"
   ]
  },
  {
   "cell_type": "code",
   "execution_count": null,
   "metadata": {},
   "outputs": [],
   "source": [
    "p1 = permuta_circular_x([1, 2, 3])\n",
    "p2 = permuta_circular_x([1, 3, 2])\n",
    "G = graphics_array([[p1, p2]])\n",
    "G.show()"
   ]
  },
  {
   "cell_type": "markdown",
   "metadata": {},
   "source": [
    "<h3>\n",
    "Teorema 1\n",
    "<BLOCKQUOTE>\n",
    "\n",
    "$$ PC(n) = (n-1)! $$"
   ]
  },
  {
   "cell_type": "markdown",
   "metadata": {},
   "source": [
    "<h3>\n",
    "Demonstração\n",
    "<BLOCKQUOTE>\n",
    "\n",
    "Se não considerássemos equivalentes disposições que possam coincidir por rotação, teríamos $n!$ disposições. \n",
    "Como para cada disposição, temos $n$ disposições equivalentes, temos\n",
    "\n",
    "$$ PC(n) = \\frac{n!}{n} = (n-1)! $$\n",
    "\n",
    "<div style=\"text-align: right\"> $\\blacksquare$ </div>  "
   ]
  },
  {
   "cell_type": "markdown",
   "metadata": {},
   "source": [
    "<h3>\n",
    "Permutações Circulares no SageMath\n",
    "<BLOCKQUOTE>    \n",
    "\n",
    "Vamos definir a função `PC(n)` no SageMath.\n",
    "\n",
    "`PC(n) = P(n)/n`"
   ]
  },
  {
   "cell_type": "code",
   "execution_count": 2,
   "metadata": {},
   "outputs": [],
   "source": [
    "PC(n) = P(n)/n"
   ]
  },
  {
   "cell_type": "markdown",
   "metadata": {},
   "source": [
    "<h3>\n",
    "Exemplo 3\n",
    "<BLOCKQUOTE>    \n",
    "    \n",
    "Quantas rodas de ciranda podem ser formadas com 8 pessoas?\n",
    "\n",
    "<div style=\"text-align: right\"> $\\blacksquare$ </div>  "
   ]
  },
  {
   "cell_type": "markdown",
   "metadata": {},
   "source": [
    "<h3>\n",
    "Solução\n",
    "<BLOCKQUOTE>\n",
    "\n",
    "Basta calcular o número de permutações circulares de 8 elementos.\n",
    "\n",
    "$$ PC(8) = 5040. $$\n",
    "\n",
    "<div style=\"text-align: right\"> $\\blacksquare$ </div>  "
   ]
  },
  {
   "cell_type": "code",
   "execution_count": 3,
   "metadata": {
    "scrolled": true
   },
   "outputs": [
    {
     "data": {
      "text/plain": [
       "5040"
      ]
     },
     "execution_count": 3,
     "metadata": {},
     "output_type": "execute_result"
    }
   ],
   "source": [
    "PC(8)"
   ]
  },
  {
   "cell_type": "code",
   "execution_count": 4,
   "metadata": {},
   "outputs": [
    {
     "data": {
      "text/plain": [
       "5040"
      ]
     },
     "execution_count": 4,
     "metadata": {},
     "output_type": "execute_result"
    }
   ],
   "source": [
    "P(8)/8"
   ]
  },
  {
   "cell_type": "markdown",
   "metadata": {},
   "source": [
    "<h3>\n",
    "Exemplo 4\n",
    "<BLOCKQUOTE>    \n",
    "\n",
    "Quantas rodas de ciranda podem ser formadas com 8 pessoas, se duas determinadas pessoas não podem ficar juntas?\n"
   ]
  },
  {
   "cell_type": "markdown",
   "metadata": {},
   "source": [
    "<h3>\n",
    "Solução\n",
    "<BLOCKQUOTE>    \n",
    "Podemos calcular o número de permutações circulares de 8 elementos e subtrair o número de permutações de 8 elementos, na qual, dois deles estão juntos. \n"
   ]
  },
  {
   "cell_type": "code",
   "execution_count": null,
   "metadata": {},
   "outputs": [],
   "source": [
    "p1 = permuta_circular_x([1, 2, 3, 4, 5, 6, 7, 8]) + ellipse((sin(pi/8), cos(pi/8)), 0.5, 0.7, pi/(2.5), fill='true', alpha=0.3)\n",
    "p2 = permuta_circular_x([2, 1, 3, 4, 5, 6, 7, 8]) + ellipse((sin(pi/8), cos(pi/8)), 0.5, 0.7, pi/(2.5), fill='true', alpha=0.3)\n",
    "\n",
    "G = graphics_array([[p1, p2]])\n",
    "G.show()"
   ]
  },
  {
   "cell_type": "markdown",
   "metadata": {},
   "source": [
    "<h3>\n",
    "\n",
    "<BLOCKQUOTE>\n",
    "\n",
    "Neste caso, teremos $PC(7)\\times 2$. Portanto a resposta é\n",
    "\n",
    "$$ PC(8)-PC(7)\\times2 = 3600. $$\n",
    "\n",
    "<div style=\"text-align: right\"> $\\blacksquare$ </div>  "
   ]
  },
  {
   "cell_type": "code",
   "execution_count": 5,
   "metadata": {
    "scrolled": true
   },
   "outputs": [
    {
     "data": {
      "text/plain": [
       "3600"
      ]
     },
     "execution_count": 5,
     "metadata": {},
     "output_type": "execute_result"
    }
   ],
   "source": [
    "PC(8)-PC(7)*2"
   ]
  },
  {
   "cell_type": "markdown",
   "metadata": {},
   "source": [
    "<h2>\n",
    "<section id=\"002\"> </section>\n",
    "2 - Permutação com Repetição"
   ]
  },
  {
   "cell_type": "markdown",
   "metadata": {},
   "source": [
    "<h3>\n",
    "Exemplo 5\n",
    "<BLOCKQUOTE>\n",
    "    \n",
    "Quantos são os anagramas da palavra SAGEMATH?\n"
   ]
  },
  {
   "cell_type": "markdown",
   "metadata": {},
   "source": [
    "<h3>\n",
    "Solução\n",
    "<BLOCKQUOTE>\n",
    "    \n",
    "Observe que a palavra SAGEMATH possui 8 letras, mas a letra A aparece duas vezes, o restante aparece apenas uma vez. \n",
    "\n",
    "Podemos imaginar, por enquanto, que a palavra é assim \n",
    "\n",
    "$$SA_1GEMA_2TH$$\n",
    "\n",
    "Com $A_1\\neq A_2$, nesse caso teríamos um total de \n",
    "\n",
    "$$ P(8) = 8! $$\n",
    "\n",
    "permutações. Agora vamos resolver o problema das repetições. \n",
    "\n",
    "Observe que para cada permutação, trocar os A's de lugar não muda o anagrama, portanto, precisamos dividir o total de permutações pela quantidade de reordenar os A's. Dessa forma a resposta é \n",
    "\n",
    "$$\\frac{P(8)}{P(2)}=20160.$$\n",
    "\n"
   ]
  },
  {
   "cell_type": "code",
   "execution_count": null,
   "metadata": {},
   "outputs": [],
   "source": [
    "P(8)/P(2)"
   ]
  },
  {
   "cell_type": "markdown",
   "metadata": {},
   "source": [
    "<h3>\n",
    "Definição 2\n",
    "<BLOCKQUOTE>\n",
    "\n",
    "Quando temos um conjunto de $n$ objetos, que possui elementos repetidos, o número de <em>permutações com repetições</em> é denotado por:\n",
    "\n",
    "$$ PR_n^{r_1, r_2, \\ldots, r_k}. $$\n",
    "\n",
    "Na qual, $r_i$ é o número de repetições do i-ésimo objeto.\n"
   ]
  },
  {
   "cell_type": "markdown",
   "metadata": {},
   "source": [
    "<h3>\n",
    "Teorema 2\n",
    "<BLOCKQUOTE>\n",
    "\n",
    "$$ PR_n^{r_1, r_2, \\ldots, r_k} = \\frac{n!}{r_1!\\times r_2!\\times\\cdots\\times r_k!}. $$"
   ]
  },
  {
   "cell_type": "markdown",
   "metadata": {},
   "source": [
    "<h3>\n",
    "Demonstração\n",
    "<BLOCKQUOTE>\n",
    "\n",
    "Considere os $n$ objetos da seguinte forma:\n",
    "\n",
    "$$ \\underbrace{A_1A_1\\ldots A_1}_{r_1  \\text{ vezes}} \\underbrace{A_2A_2\\ldots A_2}_{r_2  \\text{ vezes}}\\ldots\\underbrace{A_kA_k\\ldots A_k}_{r_k  \\text{ vezes}} $$\n",
    "\n",
    "observe que $r_1+r_2+\\cdots+ r_k = n.$\n",
    "\n",
    "Para encontrar o número de formas de permutar esses elementos, vamos quebrar em $k$ etapas.\n",
    "\n",
    "Na primeira etapa, vamos escolher $r_1$ posições, dentre $n$, para colocar $A_1$: $C_n^{r_1}$.\n",
    "\n",
    "Na segunda etapa, vamos escolher $r_2$ posições, dentre $n-r_1$, para colocar $A_2$: $C_{n-r_1}^{r_2}$.\n",
    "\n",
    "$\\vdots$\n",
    "\n",
    "Na $k$-ésima etapa, vamos escolher $r_k$ posições, dentre $n-r_1-r_2-\\cdots-r_{k-1}=r_k$, para colocar $A_k$: $C_{r_k}^{r_k}$.\n",
    "\n",
    "Portanto, \n",
    "\n",
    "\\begin{equation*} \n",
    "\\begin{split}\n",
    "PR_n^{r_1, r_2, \\ldots, r_k} &=~ C_n^{r_1}\\times C_{n-r_1}^{r_2} \\times \\cdots \\times C_{r_k}^{r_k} \\\\\n",
    "                             &=~ \\frac{n!}{r_1!\\underbrace{(n-r_1)!}_{x_1}}\\cdot\\frac{\\overbrace{(n-r_1)!}^{x_1}}{r_2!\\underbrace{(n-r_1-r_2)!}_{x_2}}\\cdot \\frac{\\overbrace{(n-r_1-r_2)!}^{x_2}}{r_3!\\underbrace{(n-r_1-r_2-r_3)!}_{x_3}}\\cdots\\frac{\\overbrace{n_k!}^{x_k}}{n_k!\\underbrace{(n_k-n_k)!}_{=1}} \\\\\n",
    "                             &=~ \\frac{n!}{r_1!\\times r_2!\\times\\cdots\\times r_k!}.\n",
    "\\end{split}\n",
    "\\end{equation*}\t\n",
    "\n",
    "\n",
    "<div style=\"text-align: right\"> $\\blacksquare$ </div>  "
   ]
  },
  {
   "cell_type": "markdown",
   "metadata": {},
   "source": [
    "<h3>\n",
    "Número de Permutações com Repetições no SageMath\n",
    "<BLOCKQUOTE>    \n",
    "\n",
    "Vamos definir a função `PR()` no SageMath."
   ]
  },
  {
   "cell_type": "code",
   "execution_count": 6,
   "metadata": {},
   "outputs": [],
   "source": [
    "def PR(*lista):\n",
    "    \n",
    "    p = P(lista[0])\n",
    "    for i in lista[1:]:\n",
    "        p = p/P(i)\n",
    "    \n",
    "    return p"
   ]
  },
  {
   "cell_type": "markdown",
   "metadata": {},
   "source": [
    "<h3>\n",
    "Exemplo 6\n",
    "<BLOCKQUOTE>\n",
    "    \n",
    "Quantos são os anagramas da palavra MATEMATICA?\n"
   ]
  },
  {
   "cell_type": "markdown",
   "metadata": {},
   "source": [
    "<h3>\n",
    "Solução\n",
    "<BLOCKQUOTE>\n",
    "\n",
    "$$ PR_{10}^{3, 2, 2} = 151200. $$\n",
    "\n"
   ]
  },
  {
   "cell_type": "code",
   "execution_count": 7,
   "metadata": {
    "scrolled": true
   },
   "outputs": [
    {
     "data": {
      "text/plain": [
       "151200"
      ]
     },
     "execution_count": 7,
     "metadata": {},
     "output_type": "execute_result"
    }
   ],
   "source": [
    "PR(10, 3, 2, 2)"
   ]
  },
  {
   "cell_type": "markdown",
   "metadata": {},
   "source": [
    "<h3>\n",
    "Exemplo 7\n",
    "<BLOCKQUOTE>\n",
    "    \n",
    "Quantos são os anagramas da palavra MATEMATICA que começam por vogal?\n"
   ]
  },
  {
   "cell_type": "markdown",
   "metadata": {},
   "source": [
    "<h3>\n",
    "Solução\n",
    "<BLOCKQUOTE>\n",
    "\n",
    "Se o anagrama começa por vogal, temos as possibilidades, A, E ou I.\n",
    "\n",
    "Começando com A, temos um total de $PR_9^{2, 2, 2}$\n",
    "\n",
    "Começando com E, temos um total de $PR_9^{3, 2, 2}$\n",
    "\n",
    "Começando com I, temos um total de $PR_9^{3, 2, 2}$\n",
    "\n",
    "Portanto a resposta é\n",
    "\n",
    "$$ PR_9^{2, 2, 2} + 2\\times PR_9^{3, 2, 2} = 75600. $$\n"
   ]
  },
  {
   "cell_type": "code",
   "execution_count": 8,
   "metadata": {},
   "outputs": [
    {
     "data": {
      "text/plain": [
       "75600"
      ]
     },
     "execution_count": 8,
     "metadata": {},
     "output_type": "execute_result"
    }
   ],
   "source": [
    "PR(9, 2, 2, 2) + 2*PR(9, 3, 2, 2)"
   ]
  },
  {
   "cell_type": "markdown",
   "metadata": {},
   "source": [
    "<section id=\"003\"> </section>\n",
    "<h3>\n",
    "3 - Exercícios\n",
    "<BLOCKQUOTE>\n",
    "\n",
    "<ol>\n",
    "  <li> De quantos modos $7$ meninos e $7$ meninas podem formar uma roda de ciranda de modo que pessoas de mesmo sexo não fiquem juntas? </li>\n",
    "    $$ $$ \n",
    "  <li> De quantos modos $18$ casais podem formar uma roda de ciranda de modo que cada homem permaneça ao lado de sua mulher? </li>\n",
    "    $$ $$ \n",
    "  <li> Quantos números de $8$ dígitos, maiores que $50.000.000$, podem ser formados usando apenas os algarismos $1, 2, 5, 5, 5, 7, 7, 7$ ?</li>\n",
    "    $$ $$ \n",
    "  <li> De quantos modos podemos colocar em fila 6 letras A, 6 letras B, 5 letras C e 4 letras D, de modo que não haja duas letras C juntas? </li>\n",
    "    $$ $$ \n",
    "  <li> De quantos modos podem ser pintados 15 objetos iguais usando 6 cores diferentes? </li>\n",
    " $$ $$ \n",
    "  <li> Quantas são as opções que temos de colocar 10 bolinhas $(\\bullet)$ e 7 barras $(~|~)$ em sequência? </li> \n",
    "\n",
    "</ol>\n"
   ]
  },
  {
   "cell_type": "markdown",
   "metadata": {},
   "source": [
    "<section id=\"004\"> </section>\n",
    "<h3>\n",
    "4 - Atividade\n",
    "    \n",
    "$$ $$\n",
    "Desta seção será sorteada uma questão para cada aluno. Tentaremos fazer o sorteio ao-vivo no dia ?? no horário da aula. O link para acessar a aula ficará disponível no AVA. O aluno deve enviar a solução para o e-mail: ricardo.machadojunior@ufrpe.br. Esta primeira atividade tem a data limite para envio: ??\n",
    "\n",
    "<BLOCKQUOTE>\n",
    "\n",
    "<ol>\n",
    "  <li> </li>\n",
    "  $$ $$     \n",
    "<li> </li>\n",
    "  $$ $$     \n",
    "<li> </li>\n",
    "  $$ $$       \n",
    "<li> </li>\n",
    "  $$ $$     \n",
    "<li> </li>\n",
    "  $$ $$       \n",
    "  \n",
    "\n",
    "</ol>"
   ]
  },
  {
   "cell_type": "markdown",
   "metadata": {},
   "source": [
    "<section id=\"005\"> </section>\n",
    "<h3>\n",
    "5 - Respostas dos Exercícios\n",
    "<BLOCKQUOTE>\n",
    "\n",
    "<ol>\n",
    "  <li> $6!\\times 7! = 3628800.$ </li>\n",
    "  $$ $$\n",
    "  <li> $17!\\times 2^{18} = 93241325150797824000.$ </li>\n",
    "  $$ $$\n",
    "  <li> $2\\times PR_{7}^{3, 2}=840.$ </li>\n",
    "  $$ $$\n",
    "  <li> $PR_{16}^{6,6,4}\\times C_{17}^5 = 10406235840.$ </li>\n",
    "  $$ $$\n",
    "  <li> $PR_{20}^{15, 5} = 15504.$ </li>\n",
    "  $$ $$\n",
    "  <li> $PR_{17}^{10, 7} = 19448.$ </li>\n",
    "  $$ $$\n",
    "\n",
    "</ol>"
   ]
  },
  {
   "cell_type": "code",
   "execution_count": null,
   "metadata": {},
   "outputs": [],
   "source": []
  }
 ],
 "metadata": {
  "kernelspec": {
   "display_name": "SageMath 8.6",
   "language": "",
   "name": "sagemath"
  },
  "language_info": {
   "codemirror_mode": {
    "name": "ipython",
    "version": 2
   },
   "file_extension": ".py",
   "mimetype": "text/x-python",
   "name": "python",
   "nbconvert_exporter": "python",
   "pygments_lexer": "ipython2",
   "version": "2.7.16"
  }
 },
 "nbformat": 4,
 "nbformat_minor": 2
}
